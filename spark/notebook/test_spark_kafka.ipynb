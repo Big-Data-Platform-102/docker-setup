{
 "cells": [
  {
   "cell_type": "code",
   "execution_count": 1,
   "id": "afed72f3-6889-4103-a502-c998675621bc",
   "metadata": {},
   "outputs": [],
   "source": [
    "from pyspark.sql import SparkSession\n",
    "from pyspark.sql.functions import col"
   ]
  },
  {
   "cell_type": "code",
   "execution_count": 2,
   "id": "f5c2b454-3410-4c51-8ddf-156736fe7db1",
   "metadata": {},
   "outputs": [],
   "source": [
    "spark = SparkSession.builder \\\n",
    "    .appName(\"KafkaToConsole\") \\\n",
    "    .config(\"spark.jars.packages\", \"org.apache.spark:spark-sql-kafka-0-10_2.12:3.5.0\") \\\n",
    "    .getOrCreate()"
   ]
  },
  {
   "cell_type": "code",
   "execution_count": 3,
   "id": "6ff2235b-60ec-4ec5-bf80-de36bd4107dd",
   "metadata": {},
   "outputs": [],
   "source": [
    "kafka_bootstrap_servers = \"broker:29092\"  \n",
    "kafka_topic = \"test-topic\""
   ]
  },
  {
   "cell_type": "code",
   "execution_count": 4,
   "id": "b145dbcc-e816-4e89-a057-f66a8ff1606f",
   "metadata": {},
   "outputs": [],
   "source": [
    "data = [(\"string1\", \"Hello\"), (\"string2\", \"World\")]\n",
    "df = spark.createDataFrame(data, [\"key\", \"value\"])"
   ]
  },
  {
   "cell_type": "code",
   "execution_count": 5,
   "id": "9300e880-4067-4648-8e19-b571df7a84e8",
   "metadata": {
    "scrolled": true
   },
   "outputs": [],
   "source": [
    "df.selectExpr(\"CAST(key AS STRING)\", \"CAST(value AS STRING)\") \\\n",
    "    .write \\\n",
    "    .format(\"kafka\") \\\n",
    "    .option(\"kafka.bootstrap.servers\", kafka_bootstrap_servers) \\\n",
    "    .option(\"topic\", kafka_topic) \\\n",
    "    .save()"
   ]
  },
  {
   "cell_type": "code",
   "execution_count": 6,
   "id": "22df2e06-de8f-4059-bad9-385e196e115d",
   "metadata": {},
   "outputs": [],
   "source": [
    "kafka_df = spark.read \\\n",
    "    .format(\"kafka\") \\\n",
    "    .option(\"kafka.bootstrap.servers\", kafka_bootstrap_servers) \\\n",
    "    .option(\"subscribe\", kafka_topic) \\\n",
    "    .load()\n",
    "\n",
    "kafka_df = kafka_df.selectExpr(\"CAST(key AS STRING)\", \"CAST(value AS STRING)\")"
   ]
  },
  {
   "cell_type": "code",
   "execution_count": 7,
   "id": "c8bbafee-07be-4b31-bd27-194fa9ab6dd6",
   "metadata": {},
   "outputs": [
    {
     "name": "stdout",
     "output_type": "stream",
     "text": [
      "+-------+-----+\n",
      "|    key|value|\n",
      "+-------+-----+\n",
      "|string1|Hello|\n",
      "|string2|World|\n",
      "+-------+-----+\n",
      "\n"
     ]
    }
   ],
   "source": [
    "kafka_df.show()"
   ]
  }
 ],
 "metadata": {
  "kernelspec": {
   "display_name": "Python 3 (ipykernel)",
   "language": "python",
   "name": "python3"
  },
  "language_info": {
   "codemirror_mode": {
    "name": "ipython",
    "version": 3
   },
   "file_extension": ".py",
   "mimetype": "text/x-python",
   "name": "python",
   "nbconvert_exporter": "python",
   "pygments_lexer": "ipython3",
   "version": "3.11.6"
  }
 },
 "nbformat": 4,
 "nbformat_minor": 5
}
