{
 "cells": [
  {
   "cell_type": "code",
   "execution_count": 1,
   "id": "26f01082-5d8a-47ab-8ab9-27fab0fabcd7",
   "metadata": {},
   "outputs": [],
   "source": [
    "from pyspark.sql import SparkSession\n",
    "from pyspark.sql.types import StructField, StringType, StructType"
   ]
  },
  {
   "cell_type": "code",
   "execution_count": 2,
   "id": "d6609293-a9c3-4172-8a7b-879de78350aa",
   "metadata": {},
   "outputs": [],
   "source": [
    "spark = SparkSession.builder \\\n",
    "    .appName(\"SparkToMinio\") \\\n",
    "    .config(\"spark.hadoop.fs.s3a.access.key\", 'dp-root-user') \\\n",
    "    .config(\"spark.hadoop.fs.s3a.secret.key\", 'dp-root-password') \\\n",
    "    .config(\"spark.hadoop.fs.s3a.endpoint\", 'minio:9000') \\\n",
    "    .config(\"spark.hadoop.fs.s3a.path.style.access\", True) \\\n",
    "    .config(\"spark.hadoop.fs.s3a.impl\", \"org.apache.hadoop.fs.s3a.S3AFileSystem\") \\\n",
    "    .config(\"spark.hadoop.fs.s3a.connection.ssl.enabled\", False) \\\n",
    "    .config(\"spark.jars.packages\", \"org.apache.hadoop:hadoop-aws:3.3.4\") \\\n",
    "    .config('spark.hadoop.fs.s3a.aws.credentials.provider', 'org.apache.hadoop.fs.s3a.SimpleAWSCredentialsProvider') \\\n",
    "    .getOrCreate()"
   ]
  },
  {
   "cell_type": "code",
   "execution_count": 3,
   "id": "88fc75bc-5eb4-43ca-ac6f-2892184100b7",
   "metadata": {},
   "outputs": [],
   "source": [
    "schema = StructType([\n",
    "    StructField(\"name\", StringType(), True),\n",
    "    StructField(\"age\", StringType(), True)\n",
    "])\n"
   ]
  },
  {
   "cell_type": "code",
   "execution_count": 4,
   "id": "7c14f013",
   "metadata": {},
   "outputs": [],
   "source": [
    "data = [\n",
    "    (\"John\", \"30\"), \n",
    "    (\"Steve\", \"25\"), \n",
    "    (\"Bill\", \"40\"), \n",
    "    (\"Donald\", \"45\"), \n",
    "    (\"Jenny\", \"23\"), \n",
    "    (\"Lucas\", \"27\"), \n",
    "    (\"Emma\", \"35\"), \n",
    "    (\"Grace\", \"28\"), \n",
    "    (\"Liam\", \"32\"), \n",
    "    (\"Claire\", \"29\")\n",
    "    \n",
    "]\n",
    "\n",
    "df = spark.createDataFrame(data, schema)\n",
    "\n"
   ]
  },
  {
   "cell_type": "code",
   "execution_count": 5,
   "id": "cc7da96b",
   "metadata": {},
   "outputs": [],
   "source": [
    "bucket_name = \"testing-spark\"\n",
    "file_path = f\"s3a://{bucket_name}/my-folder\""
   ]
  },
  {
   "cell_type": "code",
   "execution_count": 6,
   "id": "a486bd39-5545-4e4b-871b-16e6e5496c15",
   "metadata": {},
   "outputs": [],
   "source": [
    "# send the dataframe to minio as a csv file\n",
    "df.coalesce(1).write \\\n",
    "    .format(\"csv\") \\\n",
    "    .mode(\"overwrite\") \\\n",
    "    .option(\"header\", \"false\") \\\n",
    "    .save(file_path)"
   ]
  },
  {
   "cell_type": "code",
   "execution_count": 7,
   "id": "bf2606e0-8724-491e-b67c-903f0f398063",
   "metadata": {},
   "outputs": [],
   "source": [
    "spark.stop()"
   ]
  },
  {
   "cell_type": "code",
   "execution_count": 8,
   "id": "6bc120aa-2794-437b-a378-6cbe9a034f53",
   "metadata": {},
   "outputs": [
    {
     "name": "stdout",
     "output_type": "stream",
     "text": [
      "s3a://testing-spark/my-folder\n"
     ]
    }
   ],
   "source": [
    "print(file_path)"
   ]
  },
  {
   "cell_type": "code",
   "execution_count": null,
   "id": "a4f2121f-e138-43f2-8eb3-2fb8b7e6d8dd",
   "metadata": {},
   "outputs": [],
   "source": []
  }
 ],
 "metadata": {
  "kernelspec": {
   "display_name": "Python 3 (ipykernel)",
   "language": "python",
   "name": "python3"
  },
  "language_info": {
   "codemirror_mode": {
    "name": "ipython",
    "version": 3
   },
   "file_extension": ".py",
   "mimetype": "text/x-python",
   "name": "python",
   "nbconvert_exporter": "python",
   "pygments_lexer": "ipython3",
   "version": "3.11.6"
  }
 },
 "nbformat": 4,
 "nbformat_minor": 5
}
