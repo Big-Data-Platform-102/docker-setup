{
 "cells": [
  {
   "cell_type": "code",
   "execution_count": 1,
   "id": "6be8d907-6141-4e70-bf7f-d8784c91a9f2",
   "metadata": {},
   "outputs": [],
   "source": [
    "from pyspark.sql import SparkSession\n",
    "from pyspark.sql.types import StructField, StringType, StructType, IntegerType"
   ]
  },
  {
   "cell_type": "code",
   "execution_count": 2,
   "id": "796354e7-befd-429c-8f34-c89d39e06f8b",
   "metadata": {},
   "outputs": [],
   "source": [
    "spark = SparkSession.builder \\\n",
    "    .appName(\"IcebergWithHiveMetastore\") \\\n",
    "    .config(\"hive.metastore.uris\", \"thrift://hive-metastore:9083\") \\\n",
    "    .config(\"spark.sql.catalog.spark_catalog\", \"org.apache.iceberg.spark.SparkCatalog\") \\\n",
    "    .config(\"spark.sql.catalog.spark_catalog.type\", \"hive\") \\\n",
    "    .config(\"spark.sql.catalog.spark_catalog.uri\", \"thrift://hive-metastore:9083\") \\\n",
    "    .config(\"spark.hadoop.fs.s3a.access.key\", \"dp-root-user\") \\\n",
    "    .config(\"spark.hadoop.fs.s3a.secret.key\", \"dp-root-password\") \\\n",
    "    .config(\"spark.hadoop.fs.s3a.endpoint\", \"http://minio:9000\") \\\n",
    "    .config(\"spark.hadoop.fs.s3a.path.style.access\", \"true\") \\\n",
    "    .config(\"spark.hadoop.fs.s3a.connection.ssl.enabled\", \"false\") \\\n",
    "    .config(\"spark.sql.catalogImplementation\", \"hive\") \\\n",
    "    .config(\"spark.jars.packages\", \"org.apache.iceberg:iceberg-spark-runtime-3.2_2.12:1.2.0,org.apache.hadoop:hadoop-aws:3.3.4\") \\\n",
    "    .config(\"spark.hadoop.fs.s3a.aws.credentials.provider\", \"org.apache.hadoop.fs.s3a.SimpleAWSCredentialsProvider\") \\\n",
    "    .enableHiveSupport() \\\n",
    "    .getOrCreate()\n"
   ]
  },
  {
   "cell_type": "code",
   "execution_count": 3,
   "id": "1c5b714e-6b18-42bf-aae3-2d1b30fa9638",
   "metadata": {},
   "outputs": [],
   "source": [
    "schema = StructType([\n",
    "    StructField(\"name\", StringType(), True),\n",
    "    StructField(\"age\", IntegerType(), True)\n",
    "])"
   ]
  },
  {
   "cell_type": "code",
   "execution_count": 4,
   "id": "cc4f3dac-0522-46fe-af08-029a4d6daabf",
   "metadata": {},
   "outputs": [],
   "source": [
    "bucket_name = \"testing-iceberg\"\n",
    "file_path = f\"s3a://{bucket_name}/people/\""
   ]
  },
  {
   "cell_type": "code",
   "execution_count": 5,
   "id": "3ab33550-aad7-4a98-b44f-a047bc50e09c",
   "metadata": {
    "scrolled": true
   },
   "outputs": [
    {
     "data": {
      "text/plain": [
       "DataFrame[]"
      ]
     },
     "execution_count": 5,
     "metadata": {},
     "output_type": "execute_result"
    }
   ],
   "source": [
    "spark.sql(f\"\"\"\n",
    "CREATE EXTERNAL TABLE IF NOT EXISTS default.people (\n",
    "    name STRING,\n",
    "    age BIGINT\n",
    ") USING iceberg\n",
    "LOCATION '{file_path}'\n",
    "\"\"\")\n"
   ]
  },
  {
   "cell_type": "code",
   "execution_count": 6,
   "id": "634bbf6a-9b6d-4a34-ae79-26996b10953a",
   "metadata": {},
   "outputs": [
    {
     "name": "stdout",
     "output_type": "stream",
     "text": [
      "+---------+---------+-----------+\n",
      "|namespace|tableName|isTemporary|\n",
      "+---------+---------+-----------+\n",
      "|  default|   people|      false|\n",
      "+---------+---------+-----------+\n",
      "\n"
     ]
    }
   ],
   "source": [
    "spark.sql(\"SHOW TABLES;\").show()"
   ]
  },
  {
   "cell_type": "code",
   "execution_count": 7,
   "id": "6423f401-bb6b-4447-b5fd-bbe4a6a22e17",
   "metadata": {},
   "outputs": [],
   "source": [
    "data = [\n",
    "    (\"John\", 30), \n",
    "    (\"Steve\", 25), \n",
    "    (\"Bill\", 40), \n",
    "    (\"Donald\", 45), \n",
    "    (\"Jenny\", 23), \n",
    "    (\"Lucas\", 27), \n",
    "    (\"Emma\", 35), \n",
    "    (\"Grace\", 28), \n",
    "    (\"Liam\", 32), \n",
    "    (\"Claire\", 29)\n",
    "]\n",
    "\n",
    "df = spark.createDataFrame(data, schema)"
   ]
  },
  {
   "cell_type": "code",
   "execution_count": 8,
   "id": "30bddbc0-f180-4542-b13e-f23ba9420fcc",
   "metadata": {},
   "outputs": [
    {
     "name": "stdout",
     "output_type": "stream",
     "text": [
      "+------+---+\n",
      "|  name|age|\n",
      "+------+---+\n",
      "|  John| 30|\n",
      "| Steve| 25|\n",
      "|  Bill| 40|\n",
      "|Donald| 45|\n",
      "| Jenny| 23|\n",
      "| Lucas| 27|\n",
      "|  Emma| 35|\n",
      "| Grace| 28|\n",
      "|  Liam| 32|\n",
      "|Claire| 29|\n",
      "+------+---+\n",
      "\n"
     ]
    }
   ],
   "source": [
    "df.write \\\n",
    "    .format(\"iceberg\") \\\n",
    "    .mode(\"append\") \\\n",
    "    .saveAsTable(\"people\")\n",
    "\n",
    "spark.sql(\"SELECT * FROM people;\").show()"
   ]
  },
  {
   "cell_type": "code",
   "execution_count": 11,
   "id": "ae6f544d-14f9-48ab-b370-c6ebb99ced1a",
   "metadata": {
    "scrolled": true
   },
   "outputs": [
    {
     "name": "stdout",
     "output_type": "stream",
     "text": [
      "+------+---+\n",
      "|  name|age|\n",
      "+------+---+\n",
      "|  John| 30|\n",
      "| Steve| 25|\n",
      "|  Bill| 40|\n",
      "|Donald| 45|\n",
      "| Jenny| 23|\n",
      "| Lucas| 27|\n",
      "|  Emma| 35|\n",
      "| Grace| 28|\n",
      "|  Liam| 32|\n",
      "|Claire| 29|\n",
      "+------+---+\n",
      "\n"
     ]
    }
   ],
   "source": [
    "df = spark.read \\\n",
    "    .format(\"iceberg\") \\\n",
    "    .load(\"people\")\n",
    "\n",
    "df.show()"
   ]
  }
 ],
 "metadata": {
  "kernelspec": {
   "display_name": "Python 3 (ipykernel)",
   "language": "python",
   "name": "python3"
  },
  "language_info": {
   "codemirror_mode": {
    "name": "ipython",
    "version": 3
   },
   "file_extension": ".py",
   "mimetype": "text/x-python",
   "name": "python",
   "nbconvert_exporter": "python",
   "pygments_lexer": "ipython3",
   "version": "3.11.6"
  }
 },
 "nbformat": 4,
 "nbformat_minor": 5
}
