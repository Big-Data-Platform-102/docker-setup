{
 "cells": [
  {
   "cell_type": "code",
   "execution_count": 1,
   "id": "1addad25-8af3-47df-8da2-7b9ce089a313",
   "metadata": {},
   "outputs": [],
   "source": [
    "from pyspark.sql import SparkSession\n",
    "from pyspark.sql.types import StructField, StringType, StructType, IntegerType"
   ]
  },
  {
   "cell_type": "code",
   "execution_count": 2,
   "id": "edc93917-e003-4d86-b20e-c6383d629f01",
   "metadata": {},
   "outputs": [],
   "source": [
    "# spark = SparkSession.builder \\\n",
    "#     .appName(\"IcebergTableLoad\") \\\n",
    "#     .config(\"spark.master\", \"spark://spark-master:7077\") \\\n",
    "#     .config(\"hive.metastore.uris\", \"thrift://hive-metastore:9083\") \\\n",
    "#     .config(\"spark.sql.catalog.spark_catalog\", \"org.apache.iceberg.spark.SparkCatalog\") \\\n",
    "#     .config(\"spark.sql.catalog.spark_catalog.type\", \"hive\") \\\n",
    "#     .config(\"spark.sql.catalog.spark_catalog.uri\", \"thrift://hive-metastore:9083\") \\\n",
    "#     .config(\"spark.hadoop.fs.s3a.access.key\", \"dp-root-user\") \\\n",
    "#     .config(\"spark.hadoop.fs.s3a.secret.key\", \"dp-root-password\") \\\n",
    "#     .config(\"spark.hadoop.fs.s3a.endpoint\", \"http://minio:9000\") \\\n",
    "#     .config(\"spark.hadoop.fs.s3a.path.style.access\", \"true\") \\\n",
    "#     .config(\"spark.hadoop.fs.s3a.connection.ssl.enabled\", \"false\") \\\n",
    "#     .config(\"spark.sql.catalogImplementation\", \"hive\") \\\n",
    "#     .config(\"spark.jars.packages\", \"org.apache.iceberg:iceberg-spark-runtime-3.5_2.12:1.6.1,org.apache.hadoop:hadoop-aws:3.3.4\") \\\n",
    "#     .config(\"spark.hadoop.fs.s3a.aws.credentials.provider\", \"org.apache.hadoop.fs.s3a.SimpleAWSCredentialsProvider\") \\\n",
    "#     .enableHiveSupport() \\\n",
    "#     .getOrCreate()\n",
    "\n",
    "spark = SparkSession.builder \\\n",
    "    .appName(\"Iceberg with REST Catalog\") \\\n",
    "    .config(\"spark.sql.extensions\", \"org.apache.iceberg.spark.extensions.IcebergSparkSessionExtensions\") \\\n",
    "    .config(\"spark.sql.catalog.demo\", \"org.apache.iceberg.spark.SparkCatalog\") \\\n",
    "    .config(\"spark.sql.catalog.demo.type\", \"rest\") \\\n",
    "    .config(\"spark.sql.catalog.demo.uri\", \"http://iceberg-rest:8181\") \\\n",
    "    .config(\"spark.sql.catalog.demo.warehouse\", \"s3a://warehouse/\") \\\n",
    "    .config(\"spark.sql.catalog.demo.s3.endpoint\", \"http://minio:9000\") \\\n",
    "    .config(\"spark.sql.catalog.demo.default-namespace\", \"demo\") \\\n",
    "    .config(\"spark.sql.catalog.demo.s3.path-style-access\", \"true\") \\\n",
    "    .config(\"spark.hadoop.fs.s3a.access.key\", \"dp-root-user\") \\\n",
    "    .config(\"spark.hadoop.fs.s3a.secret.key\", \"dp-root-password\") \\\n",
    "    .config(\"spark.hadoop.fs.s3a.region\", \"us-west-2\") \\\n",
    "    .config(\"spark.hadoop.fs.s3a.path.style.access\", \"true\") \\\n",
    "    .config(\"spark.jars.packages\", \"org.apache.iceberg:iceberg-spark-runtime-3.5_2.12:1.6.1,org.apache.hadoop:hadoop-aws:3.3.4,org.apache.iceberg:iceberg-aws-bundle:1.6.1\") \\\n",
    "    .config(\"spark.hadoop.fs.s3a.aws.credentials.provider\", \"org.apache.hadoop.fs.s3a.SimpleAWSCredentialsProvider\") \\\n",
    "    .getOrCreate()"
   ]
  },
  {
   "cell_type": "code",
   "execution_count": 3,
   "id": "a6cf3f90-272c-4a3a-9e0c-af0a37b42dc0",
   "metadata": {},
   "outputs": [],
   "source": [
    "bucket_name = \"warehouse\"\n",
    "file_path = f\"s3a://{bucket_name}/test/demo/demo-table\""
   ]
  },
  {
   "cell_type": "code",
   "execution_count": 4,
   "id": "6bdadaa7-54cf-4ae2-a043-a7af4dcba466",
   "metadata": {},
   "outputs": [
    {
     "name": "stdout",
     "output_type": "stream",
     "text": [
      "+---------+----------+-----------+\n",
      "|namespace| tableName|isTemporary|\n",
      "+---------+----------+-----------+\n",
      "|     demo|demo-table|      false|\n",
      "+---------+----------+-----------+\n",
      "\n"
     ]
    }
   ],
   "source": [
    "spark.sql(\"SHOW TABLES IN demo.demo\").show()"
   ]
  },
  {
   "cell_type": "code",
   "execution_count": 5,
   "id": "78775562-fd8c-45eb-9af8-19b644b3ff0a",
   "metadata": {},
   "outputs": [
    {
     "name": "stdout",
     "output_type": "stream",
     "text": [
      "+-----------+---+--------+\n",
      "|       City|Age|    Name|\n",
      "+-----------+---+--------+\n",
      "|Los Angeles| 28|Jane Doe|\n",
      "|Los Angeles| 28|Jane Doe|\n",
      "+-----------+---+--------+\n",
      "\n"
     ]
    }
   ],
   "source": [
    "spark.sql(\"SELECT * FROM demo.demo.`demo-table`\").show()"
   ]
  }
 ],
 "metadata": {
  "kernelspec": {
   "display_name": "Python 3 (ipykernel)",
   "language": "python",
   "name": "python3"
  },
  "language_info": {
   "codemirror_mode": {
    "name": "ipython",
    "version": 3
   },
   "file_extension": ".py",
   "mimetype": "text/x-python",
   "name": "python",
   "nbconvert_exporter": "python",
   "pygments_lexer": "ipython3",
   "version": "3.11.6"
  }
 },
 "nbformat": 4,
 "nbformat_minor": 5
}
