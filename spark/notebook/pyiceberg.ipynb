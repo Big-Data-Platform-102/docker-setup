{
 "cells": [
  {
   "cell_type": "code",
   "execution_count": 1,
   "id": "1583be46-8657-401d-9028-1d351c790f0d",
   "metadata": {
    "scrolled": true
   },
   "outputs": [
    {
     "name": "stdout",
     "output_type": "stream",
     "text": [
      "Requirement already satisfied: pyiceberg[hive,s3fs] in /opt/conda/lib/python3.11/site-packages (0.7.1)\n",
      "Requirement already satisfied: click<9.0.0,>=7.1.1 in /opt/conda/lib/python3.11/site-packages (from pyiceberg[hive,s3fs]) (8.1.7)\n",
      "Requirement already satisfied: fsspec<2025.1.0,>=2023.1.0 in /opt/conda/lib/python3.11/site-packages (from pyiceberg[hive,s3fs]) (2023.12.2)\n",
      "Requirement already satisfied: mmh3<5.0.0,>=4.0.0 in /opt/conda/lib/python3.11/site-packages (from pyiceberg[hive,s3fs]) (4.1.0)\n",
      "Requirement already satisfied: pydantic!=2.4.0,!=2.4.1,<3.0,>=2.0 in /opt/conda/lib/python3.11/site-packages (from pyiceberg[hive,s3fs]) (2.9.1)\n",
      "Requirement already satisfied: pyparsing<4.0.0,>=3.1.0 in /opt/conda/lib/python3.11/site-packages (from pyiceberg[hive,s3fs]) (3.1.1)\n",
      "Requirement already satisfied: requests<3.0.0,>=2.20.0 in /opt/conda/lib/python3.11/site-packages (from pyiceberg[hive,s3fs]) (2.31.0)\n",
      "Requirement already satisfied: rich<14.0.0,>=10.11.0 in /opt/conda/lib/python3.11/site-packages (from pyiceberg[hive,s3fs]) (13.8.1)\n",
      "Requirement already satisfied: s3fs<2024.1.0,>=2023.1.0 in /opt/conda/lib/python3.11/site-packages (from pyiceberg[hive,s3fs]) (2023.12.2)\n",
      "Requirement already satisfied: sortedcontainers==2.4.0 in /opt/conda/lib/python3.11/site-packages (from pyiceberg[hive,s3fs]) (2.4.0)\n",
      "Requirement already satisfied: strictyaml<2.0.0,>=1.7.0 in /opt/conda/lib/python3.11/site-packages (from pyiceberg[hive,s3fs]) (1.7.3)\n",
      "Requirement already satisfied: tenacity<9.0.0,>=8.2.3 in /opt/conda/lib/python3.11/site-packages (from pyiceberg[hive,s3fs]) (8.5.0)\n",
      "Requirement already satisfied: thrift<1.0.0,>=0.13.0 in /opt/conda/lib/python3.11/site-packages (from pyiceberg[hive,s3fs]) (0.20.0)\n",
      "Requirement already satisfied: annotated-types>=0.6.0 in /opt/conda/lib/python3.11/site-packages (from pydantic!=2.4.0,!=2.4.1,<3.0,>=2.0->pyiceberg[hive,s3fs]) (0.7.0)\n",
      "Requirement already satisfied: pydantic-core==2.23.3 in /opt/conda/lib/python3.11/site-packages (from pydantic!=2.4.0,!=2.4.1,<3.0,>=2.0->pyiceberg[hive,s3fs]) (2.23.3)\n",
      "Requirement already satisfied: typing-extensions>=4.6.1 in /opt/conda/lib/python3.11/site-packages (from pydantic!=2.4.0,!=2.4.1,<3.0,>=2.0->pyiceberg[hive,s3fs]) (4.8.0)\n",
      "Requirement already satisfied: charset-normalizer<4,>=2 in /opt/conda/lib/python3.11/site-packages (from requests<3.0.0,>=2.20.0->pyiceberg[hive,s3fs]) (3.3.0)\n",
      "Requirement already satisfied: idna<4,>=2.5 in /opt/conda/lib/python3.11/site-packages (from requests<3.0.0,>=2.20.0->pyiceberg[hive,s3fs]) (3.4)\n",
      "Requirement already satisfied: urllib3<3,>=1.21.1 in /opt/conda/lib/python3.11/site-packages (from requests<3.0.0,>=2.20.0->pyiceberg[hive,s3fs]) (2.0.7)\n",
      "Requirement already satisfied: certifi>=2017.4.17 in /opt/conda/lib/python3.11/site-packages (from requests<3.0.0,>=2.20.0->pyiceberg[hive,s3fs]) (2023.7.22)\n",
      "Requirement already satisfied: markdown-it-py>=2.2.0 in /opt/conda/lib/python3.11/site-packages (from rich<14.0.0,>=10.11.0->pyiceberg[hive,s3fs]) (3.0.0)\n",
      "Requirement already satisfied: pygments<3.0.0,>=2.13.0 in /opt/conda/lib/python3.11/site-packages (from rich<14.0.0,>=10.11.0->pyiceberg[hive,s3fs]) (2.16.1)\n",
      "Requirement already satisfied: aiobotocore<3.0.0,>=2.5.4 in /opt/conda/lib/python3.11/site-packages (from s3fs<2024.1.0,>=2023.1.0->pyiceberg[hive,s3fs]) (2.15.0)\n",
      "Requirement already satisfied: aiohttp!=4.0.0a0,!=4.0.0a1 in /opt/conda/lib/python3.11/site-packages (from s3fs<2024.1.0,>=2023.1.0->pyiceberg[hive,s3fs]) (3.10.5)\n",
      "Requirement already satisfied: python-dateutil>=2.6.0 in /opt/conda/lib/python3.11/site-packages (from strictyaml<2.0.0,>=1.7.0->pyiceberg[hive,s3fs]) (2.8.2)\n",
      "Requirement already satisfied: six>=1.7.2 in /opt/conda/lib/python3.11/site-packages (from thrift<1.0.0,>=0.13.0->pyiceberg[hive,s3fs]) (1.16.0)\n",
      "Requirement already satisfied: botocore<1.35.17,>=1.35.16 in /opt/conda/lib/python3.11/site-packages (from aiobotocore<3.0.0,>=2.5.4->s3fs<2024.1.0,>=2023.1.0->pyiceberg[hive,s3fs]) (1.35.16)\n",
      "Requirement already satisfied: wrapt<2.0.0,>=1.10.10 in /opt/conda/lib/python3.11/site-packages (from aiobotocore<3.0.0,>=2.5.4->s3fs<2024.1.0,>=2023.1.0->pyiceberg[hive,s3fs]) (1.16.0)\n",
      "Requirement already satisfied: aioitertools<1.0.0,>=0.5.1 in /opt/conda/lib/python3.11/site-packages (from aiobotocore<3.0.0,>=2.5.4->s3fs<2024.1.0,>=2023.1.0->pyiceberg[hive,s3fs]) (0.12.0)\n",
      "Requirement already satisfied: aiohappyeyeballs>=2.3.0 in /opt/conda/lib/python3.11/site-packages (from aiohttp!=4.0.0a0,!=4.0.0a1->s3fs<2024.1.0,>=2023.1.0->pyiceberg[hive,s3fs]) (2.4.0)\n",
      "Requirement already satisfied: aiosignal>=1.1.2 in /opt/conda/lib/python3.11/site-packages (from aiohttp!=4.0.0a0,!=4.0.0a1->s3fs<2024.1.0,>=2023.1.0->pyiceberg[hive,s3fs]) (1.3.1)\n",
      "Requirement already satisfied: attrs>=17.3.0 in /opt/conda/lib/python3.11/site-packages (from aiohttp!=4.0.0a0,!=4.0.0a1->s3fs<2024.1.0,>=2023.1.0->pyiceberg[hive,s3fs]) (23.1.0)\n",
      "Requirement already satisfied: frozenlist>=1.1.1 in /opt/conda/lib/python3.11/site-packages (from aiohttp!=4.0.0a0,!=4.0.0a1->s3fs<2024.1.0,>=2023.1.0->pyiceberg[hive,s3fs]) (1.4.1)\n",
      "Requirement already satisfied: multidict<7.0,>=4.5 in /opt/conda/lib/python3.11/site-packages (from aiohttp!=4.0.0a0,!=4.0.0a1->s3fs<2024.1.0,>=2023.1.0->pyiceberg[hive,s3fs]) (6.1.0)\n",
      "Requirement already satisfied: yarl<2.0,>=1.0 in /opt/conda/lib/python3.11/site-packages (from aiohttp!=4.0.0a0,!=4.0.0a1->s3fs<2024.1.0,>=2023.1.0->pyiceberg[hive,s3fs]) (1.11.1)\n",
      "Requirement already satisfied: mdurl~=0.1 in /opt/conda/lib/python3.11/site-packages (from markdown-it-py>=2.2.0->rich<14.0.0,>=10.11.0->pyiceberg[hive,s3fs]) (0.1.2)\n",
      "Requirement already satisfied: jmespath<2.0.0,>=0.7.1 in /opt/conda/lib/python3.11/site-packages (from botocore<1.35.17,>=1.35.16->aiobotocore<3.0.0,>=2.5.4->s3fs<2024.1.0,>=2023.1.0->pyiceberg[hive,s3fs]) (1.0.1)\n",
      "Requirement already satisfied: pyarrow in /opt/conda/lib/python3.11/site-packages (17.0.0)\n",
      "Requirement already satisfied: numpy>=1.16.6 in /opt/conda/lib/python3.11/site-packages (from pyarrow) (1.24.4)\n"
     ]
    }
   ],
   "source": [
    "!pip install \"pyiceberg[s3fs,hive]\"\n",
    "!pip install --upgrade pyarrow\n"
   ]
  },
  {
   "cell_type": "code",
   "execution_count": 2,
   "id": "51cd0105-3c7b-44d0-b901-027598383a31",
   "metadata": {},
   "outputs": [],
   "source": [
    "bucket_name = \"warehouse\"\n",
    "file_path = f\"s3a://{bucket_name}/test/demo/demo-table\""
   ]
  },
  {
   "cell_type": "code",
   "execution_count": 3,
   "id": "8a0f4a14-476d-4553-93b7-b7cedf1cfa32",
   "metadata": {},
   "outputs": [],
   "source": [
    "import os\n",
    "\n",
    "# Set MinIO credentials\n",
    "os.environ['AWS_ACCESS_KEY_ID'] = 'dp-root-user'\n",
    "os.environ['AWS_SECRET_ACCESS_KEY'] = 'dp-root-password'"
   ]
  },
  {
   "cell_type": "code",
   "execution_count": 4,
   "id": "c870cd5e-0652-4f90-bc22-2b67085fdfd4",
   "metadata": {},
   "outputs": [],
   "source": [
    "from pyiceberg.catalog import load_catalog\n",
    "import pyarrow.parquet as pq\n",
    "\n",
    "catalog = load_catalog(\n",
    "    \"docs\",\n",
    "    **{\n",
    "        \"type\": \"rest\",\n",
    "        \"uri\": \"http://iceberg-rest:8181\",\n",
    "        \"s3.endpoint\": \"http://minio:9000\",\n",
    "        \"py-io-impl\": \"pyiceberg.io.pyarrow.PyArrowFileIO\",\n",
    "        \"s3.access-key-id\": \"dp-root-user\",\n",
    "        \"s3.secret-access-key\": \"dp-root-password\",\n",
    "    }\n",
    ")"
   ]
  },
  {
   "cell_type": "code",
   "execution_count": 10,
   "id": "017a19fe-6fd6-4fc6-8d33-82ee507333a8",
   "metadata": {},
   "outputs": [
    {
     "data": {
      "text/plain": [
       "[('demo',)]"
      ]
     },
     "execution_count": 10,
     "metadata": {},
     "output_type": "execute_result"
    }
   ],
   "source": [
    "catalog.list_namespaces()"
   ]
  },
  {
   "cell_type": "code",
   "execution_count": 5,
   "id": "0f90c9f1-7d37-4102-acbe-5eeac399984c",
   "metadata": {},
   "outputs": [
    {
     "data": {
      "text/plain": [
       "[('demo', 'demo-table')]"
      ]
     },
     "execution_count": 5,
     "metadata": {},
     "output_type": "execute_result"
    }
   ],
   "source": [
    "catalog.list_tables('demo')"
   ]
  },
  {
   "cell_type": "code",
   "execution_count": 6,
   "id": "dd238e53-b804-4092-93e1-63b152f498a7",
   "metadata": {},
   "outputs": [],
   "source": [
    "table = catalog.load_table(\"demo.demo-table\")"
   ]
  },
  {
   "cell_type": "code",
   "execution_count": 8,
   "id": "695878f9-304a-4ee4-9ae0-0dc42b9514f7",
   "metadata": {},
   "outputs": [
    {
     "data": {
      "text/html": [
       "<div>\n",
       "<style scoped>\n",
       "    .dataframe tbody tr th:only-of-type {\n",
       "        vertical-align: middle;\n",
       "    }\n",
       "\n",
       "    .dataframe tbody tr th {\n",
       "        vertical-align: top;\n",
       "    }\n",
       "\n",
       "    .dataframe thead th {\n",
       "        text-align: right;\n",
       "    }\n",
       "</style>\n",
       "<table border=\"1\" class=\"dataframe\">\n",
       "  <thead>\n",
       "    <tr style=\"text-align: right;\">\n",
       "      <th></th>\n",
       "      <th>pizza_type</th>\n",
       "      <th>size</th>\n",
       "      <th>price</th>\n",
       "      <th>extra_toppings</th>\n",
       "      <th>order_id</th>\n",
       "    </tr>\n",
       "  </thead>\n",
       "  <tbody>\n",
       "    <tr>\n",
       "      <th>0</th>\n",
       "      <td>Veggie</td>\n",
       "      <td>Small</td>\n",
       "      <td>11.99</td>\n",
       "      <td>Olives</td>\n",
       "      <td>3</td>\n",
       "    </tr>\n",
       "  </tbody>\n",
       "</table>\n",
       "</div>"
      ],
      "text/plain": [
       "  pizza_type   size  price extra_toppings  order_id\n",
       "0     Veggie  Small  11.99         Olives         3"
      ]
     },
     "execution_count": 8,
     "metadata": {},
     "output_type": "execute_result"
    }
   ],
   "source": [
    "df = table.scan().to_pandas()\n",
    "df.head()"
   ]
  }
 ],
 "metadata": {
  "kernelspec": {
   "display_name": "Python 3 (ipykernel)",
   "language": "python",
   "name": "python3"
  },
  "language_info": {
   "codemirror_mode": {
    "name": "ipython",
    "version": 3
   },
   "file_extension": ".py",
   "mimetype": "text/x-python",
   "name": "python",
   "nbconvert_exporter": "python",
   "pygments_lexer": "ipython3",
   "version": "3.11.6"
  }
 },
 "nbformat": 4,
 "nbformat_minor": 5
}
